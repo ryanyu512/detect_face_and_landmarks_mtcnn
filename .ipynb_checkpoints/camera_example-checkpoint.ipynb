{
 "cells": [
  {
   "cell_type": "code",
   "execution_count": 1,
   "id": "8062a13e",
   "metadata": {},
   "outputs": [],
   "source": [
    "import os \n",
    "import cv2\n",
    "import json\n",
    "import numpy as np\n",
    "\n",
    "from visualise import *\n",
    "from mtcnn import MTCNN\n",
    "from matplotlib import pyplot as plt\n",
    "from tensorflow.keras.models import load_model"
   ]
  },
  {
   "cell_type": "code",
   "execution_count": null,
   "id": "5d5c027b",
   "metadata": {},
   "outputs": [],
   "source": [
    "IS_R = True\n",
    "IS_O = True\n",
    "P_COLOR = [255,0,0]\n",
    "mtcnn = MTCNN(face_t = [0.5, 0.7, 0.7])\n",
    "\n",
    "mtcnn.pnet = load_model('best_pnet.h5') \n",
    "mtcnn.rnet = load_model('best_rnet.h5') \n",
    "mtcnn.onet = load_model('best_onet.h5')"
   ]
  },
  {
   "cell_type": "code",
   "execution_count": null,
   "id": "17be7dd5",
   "metadata": {},
   "outputs": [],
   "source": [
    "camera = cv2.VideoCapture(0)\n",
    "try:\n",
    "    while True:\n",
    "        return_value, img = camera.read()\n",
    "\n",
    "        img = cv2.cvtColor(img, cv2.COLOR_BGR2RGB)\n",
    "        img = cv2.resize(img, (480, 320), interpolation=cv2.INTER_AREA)\n",
    "\n",
    "        reg, mrks = mtcnn.detect_faces(img, is_r = IS_R, is_o = IS_O)\n",
    "        if reg.size > 0:\n",
    "            img = visualise_boxes(img, reg, thickness = 3, color = P_COLOR)\n",
    "\n",
    "        if mrks.size > 0:\n",
    "            for mrk in mrks:\n",
    "                mrk = np.fix(mrk).astype(np.int32)\n",
    "                cv2.circle(img, (mrk[0], mrk[1]), 2, P_COLOR, -1)\n",
    "                cv2.circle(img, (mrk[2], mrk[3]), 2, P_COLOR, -1)\n",
    "                cv2.circle(img, (mrk[4], mrk[5]), 2, P_COLOR, -1)\n",
    "                cv2.circle(img, (mrk[6], mrk[7]), 2, P_COLOR, -1)\n",
    "                cv2.circle(img, (mrk[8], mrk[9]), 2, P_COLOR, -1)\n",
    "\n",
    "        cv2.imshow('', cv2.cvtColor(img, cv2.COLOR_RGB2BGR))\n",
    "        if cv2.waitKey(1) & 0xFF == ord('q'):\n",
    "            break\n",
    "except:     \n",
    "    del(camera)"
   ]
  }
 ],
 "metadata": {
  "kernelspec": {
   "display_name": "Python 3 (ipykernel)",
   "language": "python",
   "name": "python3"
  },
  "language_info": {
   "codemirror_mode": {
    "name": "ipython",
    "version": 3
   },
   "file_extension": ".py",
   "mimetype": "text/x-python",
   "name": "python",
   "nbconvert_exporter": "python",
   "pygments_lexer": "ipython3",
   "version": "3.10.9"
  }
 },
 "nbformat": 4,
 "nbformat_minor": 5
}
